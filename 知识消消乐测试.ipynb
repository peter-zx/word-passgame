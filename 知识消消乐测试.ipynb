{
 "cells": [
  {
   "cell_type": "code",
   "execution_count": null,
   "metadata": {
    "vscode": {
     "languageId": "plaintext"
    }
   },
   "outputs": [],
   "source": [
    "# 1. 克隆仓库并进入目录\n",
    "!git clone https://github.com/peter-zx/word-passgame.git\n",
    "%cd word-passgame\n",
    "\n",
    "# 2. 安装依赖\n",
    "!pip install flask\n",
    "!pip install pyngrok\n",
    "\n",
    "# 3. 导入并运行 Flask 应用\n",
    "from main import app\n",
    "import threading\n",
    "import time\n",
    "\n",
    "# 在线程中启动 Flask，关闭调试模式\n",
    "print(\"启动 Flask 服务...\")\n",
    "thread = threading.Thread(target=lambda: app.run(host=\"0.0.0.0\", port=9527, debug=False), daemon=True)\n",
    "thread.start()\n",
    "\n",
    "# 等待 Flask 启动完成\n",
    "time.sleep(5)\n",
    "\n",
    "# 检查本地服务是否可用\n",
    "!curl http://localhost:9527 || echo \"本地服务未启动\"\n",
    "\n",
    "# 4. 设置 ngrok 内网穿透\n",
    "from pyngrok import ngrok\n",
    "\n",
    "ngrok.set_auth_token(\"2ucW2Xd4dL6XACNAWeyBoDlBO9g_6g3zZJeHw61HUmfafWCiV\")  # 替换为你的 token\n",
    "http_tunnel = ngrok.connect(9527)\n",
    "public_url = http_tunnel.public_url\n",
    "print(\"ngrok 公共 URL:\", public_url)"
   ]
  }
 ],
 "metadata": {
  "language_info": {
   "name": "python"
  }
 },
 "nbformat": 4,
 "nbformat_minor": 2
}
