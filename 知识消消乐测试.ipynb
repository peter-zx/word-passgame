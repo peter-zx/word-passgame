{
 "cells": [
  {
   "cell_type": "code",
   "execution_count": null,
   "metadata": {
    "vscode": {
     "languageId": "plaintext"
    }
   },
   "outputs": [],
   "source": [
    "import random\n",
    "import subprocess\n",
    "import time\n",
    "import os\n",
    "\n",
    "# 1. 克隆仓库并进入目录\n",
    "!git clone https://github.com/peter-zx/word-passgame.git\n",
    "%cd word-passgame/word-passgame\n",
    "\n",
    "# 2. 安装依赖\n",
    "!pip install flask\n",
    "!pip install pyngrok\n",
    "\n",
    "# 3. 随机选择 Flask 端口\n",
    "def get_random_port():\n",
    "    return random.randint(5000, 9000)\n",
    "\n",
    "flask_port = get_random_port()\n",
    "\n",
    "# 4. 创建 ngrok.yml 文件\n",
    "ngrok_config = f\"\"\"\n",
    "version: \"2\"\n",
    "authtoken: \"2ucW2Xd4dL6XACNAWeyBoDlBO9g_6g3zZJeHw61HUmfafWCiV\" # 替换为你的 token\n",
    "tunnels:\n",
    "  my_tunnel:\n",
    "    addr: {flask_port}\n",
    "    proto: http\n",
    "\"\"\"\n",
    "\n",
    "with open(\"ngrok.yml\", \"w\") as f:\n",
    "    f.write(ngrok_config)\n",
    "\n",
    "# 5. 启动 Flask 应用\n",
    "print(f\"启动 Flask 服务，端口：{flask_port}...\")\n",
    "os.environ[\"FLASK_PORT\"] = str(flask_port)  # 设置环境变量，传递给 ngrok\n",
    "!python main.py &\n",
    "\n",
    "# 6. 等待 Flask 启动完成 (增加等待时间)\n",
    "time.sleep(10)\n",
    "\n",
    "# 7. 检查本地服务是否可用\n",
    "!curl http://localhost:$flask_port || echo \"本地服务未启动\"\n",
    "\n",
    "# 8. 安装 ngrok\n",
    "!pip install pyngrok\n",
    "\n",
    "# 9. 启动 ngrok 内网穿透 (使用 ngrok.yml 配置文件)\n",
    "print(\"启动 ngrok 内网穿透...\")\n",
    "!ngrok start --all\n",
    "\n",
    "# ngrok 会在终端输出 public URL，手动复制即可。"
   ]
  },
  {
   "cell_type": "markdown",
   "metadata": {},
   "source": [
    "### 下面这个不要点 这个是备用的"
   ]
  },
  {
   "cell_type": "code",
   "execution_count": null,
   "metadata": {
    "vscode": {
     "languageId": "plaintext"
    }
   },
   "outputs": [],
   "source": [
    "# 1. 克隆仓库并进入目录\n",
    "!git clone https://github.com/peter-zx/word-passgame.git\n",
    "%cd word-passgame\n",
    "\n",
    "# 2. 安装依赖\n",
    "!pip install flask\n",
    "!pip install pyngrok\n",
    "\n",
    "# 3. 导入并运行 Flask 应用\n",
    "from main import app\n",
    "import threading\n",
    "import time\n",
    "\n",
    "# 在线程中启动 Flask，关闭调试模式\n",
    "print(\"启动 Flask 服务...\")\n",
    "thread = threading.Thread(target=lambda: app.run(host=\"0.0.0.0\", port=9527, debug=False), daemon=True)\n",
    "thread.start()\n",
    "\n",
    "# 等待 Flask 启动完成\n",
    "time.sleep(5)\n",
    "\n",
    "# 检查本地服务是否可用\n",
    "!curl http://localhost:9527 || echo \"本地服务未启动\"\n",
    "\n",
    "# 4. 设置 ngrok 内网穿透\n",
    "from pyngrok import ngrok\n",
    "\n",
    "ngrok.set_auth_token(\"2ucW2Xd4dL6XACNAWeyBoDlBO9g_6g3zZJeHw61HUmfafWCiV\")  # 替换为你的 token\n",
    "http_tunnel = ngrok.connect(9527)\n",
    "public_url = http_tunnel.public_url\n",
    "print(\"ngrok 公共 URL:\", public_url)"
   ]
  }
 ],
 "metadata": {
  "language_info": {
   "name": "python"
  }
 },
 "nbformat": 4,
 "nbformat_minor": 2
}
